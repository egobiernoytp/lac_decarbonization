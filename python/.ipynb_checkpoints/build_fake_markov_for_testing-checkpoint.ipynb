{
 "cells": [
  {
   "cell_type": "code",
   "execution_count": 1,
   "metadata": {},
   "outputs": [
    {
     "data": {
      "text/plain": [
       "<module 'support_functions' from '/Users/jsyme/Documents/Projects/git_jbus/lac_decarbonization/python/support_functions.py'>"
      ]
     },
     "execution_count": 1,
     "metadata": {},
     "output_type": "execute_result"
    }
   ],
   "source": [
    "import os, os.path\n",
    "import numpy as np\n",
    "import pandas as pd\n",
    "import setup_analysis as sa\n",
    "import support_functions as sf\n",
    "import importlib\n",
    "importlib.reload(sa)\n",
    "importlib.reload(sf)\n"
   ]
  },
  {
   "cell_type": "code",
   "execution_count": 27,
   "metadata": {},
   "outputs": [],
   "source": [
    "fkdata = \"/Users/jsyme/Documents/Projects/FY21/SWCHE131_1000/dev/fake_data/land_use_transition_baseline_assumption_fake_data.xlsx\"\n",
    "fp_mergetarg = os.path.join(sa.dir_out, \"tmp_afolu_vars.csv\")\n",
    "\n",
    "\n",
    "\n",
    "df_mk = pd.read_excel(fkdata, sheet_name = \"data_sheet\")\n",
    "fields_id = [\"year\", \"cat\"]\n",
    "fields_dat = [x for x in df_mk.columns if (x not in fields_id + [\"scen\"])]\n",
    "# set to long and get transition probabilities\n",
    "df_mkl = pd.melt(df_mk, id_vars = fields_id, value_vars = fields_dat)\n",
    "def format_prob(row):\n",
    "    return \"pij_%s_to_%s\"%tuple(row)\n",
    "df_mkl[\"field\"] = np.array(df_mkl[[\"cat\", \"variable\"]].apply(f, axis = 1))\n",
    "\n",
    "# read dataset to merge into\n",
    "df_mergetarg = pd.read_csv(fp_mergetarg)\n",
    "\n",
    "df_mkw = pd.pivot(df_mkl[[\"year\", \"field\", \"value\"]], index = \"year\", columns = \"field\", values = \"value\")\n",
    "df_mkw.reset_index(drop = False, inplace = True)# = df_mkw.rename(columns = {\"year\": \"time_period\"})\n",
    "df_mkw[\"time_period\"] = df_mkw[\"year\"].replace({2016:0, 2050:35})\n",
    "fields_id = [\"time_period\"]\n",
    "fields_dat = [x for x in df_mkw.columns if (x not in fields_id + [\"field\", \"year\"])]\n",
    "df_mkw = df_mkw[fields_id + fields_dat].reset_index(drop = True)\n",
    "\n",
    "df_mkw_out = pd.DataFrame({\"time_period\": list(range(36))})\n",
    "df_mkw_out = pd.merge(df_mkw_out, df_mkw, how = \"left\")\n",
    "df_mkw_out = df_mkw_out.interpolate().transpose().sort_index()\n",
    "df_mkw_out.reset_index(drop = False, inplace = True)\n",
    "df_mkw_out = df_mkw_out.rename(columns = {\"index\": \"variable\"})\n",
    "df_mkw_out = df_mkw_out.rename(columns = dict(zip(df_mkw_out.columns, [str(x) for x in df_mkw_out.columns])))\n",
    "\n",
    "df_mkw_out = pd.merge(df_mergetarg[[\"subsector\", \"src\", \"variable\", \"time_series_id\", \"strategy_id\", \"variable_trajectory_group\", \"variable_trajectory_group_trajectory_type\", \"normalize_group\", \"trajgroup_no_vary_q\", \"uniform_scaling_q\", \"min_35\", \"max_35\"]], df_mkw_out).sort_values(by = [\"variable\"]).reset_index(drop = True)\n",
    "df_mkw_out = pd.concat([df_mergetarg[~df_mergetarg[\"0\"].isna()], df_mkw_out], axis = 0).sort_values(by = [\"subsector\", \"variable\"]).reset_index(drop = True) \n",
    "df_mkw_out.to_csv(os.path.join(sa.dir_out, \"tmp_afolu_vars_with_mcmc.csv\"), index = None, encoding = \"UTF-8\")\n",
    "\n",
    "\n",
    "df_mkw_out2 = df_mkw_out[[str(x) for x in range(36)]].transpose().reset_index(drop = True)\n",
    "var_fields = list(df_mkw_out[\"variable\"])\n",
    "df_mkw_out2 = df_mkw_out2.rename(columns = dict(zip([(x) for x in range(len(df_mkw_out2.columns))], var_fields)))\n",
    "df_mkw_out2[\"time_period\"] = list(range(len(df_mkw_out2)))\n",
    "df_mkw_out2 = df_mkw_out2[[\"time_period\"] + var_fields]\n",
    "\n",
    "df_mkw_out2.to_csv(os.path.join(sa.dir_out, \"fake_data_afolu.csv\"), index = None, encoding = \"UTF-8\")"
   ]
  },
  {
   "cell_type": "code",
   "execution_count": null,
   "metadata": {},
   "outputs": [],
   "source": []
  },
  {
   "cell_type": "code",
   "execution_count": 165,
   "metadata": {},
   "outputs": [],
   "source": []
  },
  {
   "cell_type": "code",
   "execution_count": 168,
   "metadata": {},
   "outputs": [],
   "source": []
  },
  {
   "cell_type": "code",
   "execution_count": null,
   "metadata": {},
   "outputs": [],
   "source": []
  },
  {
   "cell_type": "code",
   "execution_count": null,
   "metadata": {},
   "outputs": [],
   "source": []
  },
  {
   "cell_type": "code",
   "execution_count": null,
   "metadata": {},
   "outputs": [],
   "source": []
  }
 ],
 "metadata": {
  "kernelspec": {
   "display_name": "Python 3",
   "language": "python",
   "name": "python3"
  },
  "language_info": {
   "codemirror_mode": {
    "name": "ipython",
    "version": 3
   },
   "file_extension": ".py",
   "mimetype": "text/x-python",
   "name": "python",
   "nbconvert_exporter": "python",
   "pygments_lexer": "ipython3",
   "version": "3.8.5"
  }
 },
 "nbformat": 4,
 "nbformat_minor": 4
}
