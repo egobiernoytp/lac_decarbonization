{
 "cells": [
  {
   "cell_type": "code",
   "execution_count": 1,
   "metadata": {},
   "outputs": [
    {
     "name": "stderr",
     "output_type": "stream",
     "text": [
      "/Users/jsyme/Documents/Projects/git_jbus/lac_decarbonization/python/data_structures.py:721: UserWarning: Invalid subsector attribute 'key_varreqs_partial'. Valid return type values are:'pycategory_primary', 'abv_subsector', 'sector', 'abv_sector', 'key_varreqs_all'\n",
      "  warnings.warn(f\"Invalid subsector attribute '{return_type}'. Valid return type values are:{valid_rts}\")\n",
      "/Users/jsyme/Documents/Projects/git_jbus/lac_decarbonization/python/data_structures.py:721: UserWarning: Invalid subsector attribute 'key_varreqs_partial'. Valid return type values are:'pycategory_primary', 'abv_subsector', 'sector', 'abv_sector', 'key_varreqs_all'\n",
      "  warnings.warn(f\"Invalid subsector attribute '{return_type}'. Valid return type values are:{valid_rts}\")\n"
     ]
    },
    {
     "data": {
      "text/plain": [
       "<module 'model_socioeconomic' from '/Users/jsyme/Documents/Projects/git_jbus/lac_decarbonization/python/model_socioeconomic.py'>"
      ]
     },
     "execution_count": 1,
     "metadata": {},
     "output_type": "execute_result"
    }
   ],
   "source": [
    "import os, os.path\n",
    "import numpy as np\n",
    "import pandas as pd\n",
    "import data_structures as ds\n",
    "import model_afolu as ma\n",
    "import model_ippu as mi\n",
    "import model_circular_economy as mc\n",
    "import model_energy as me\n",
    "import model_socioeconomic as se\n",
    "from model_socioeconomic import Socioeconomic\n",
    "import setup_analysis as sa\n",
    "import support_functions as sf\n",
    "import importlib\n",
    "import time\n",
    "import warnings\n",
    "import matplotlib.pyplot as plt\n",
    "\n",
    "importlib.reload(ds)\n",
    "importlib.reload(sa)\n",
    "importlib.reload(sf)\n",
    "importlib.reload(ma)\n",
    "importlib.reload(mc)\n",
    "importlib.reload(mi)\n",
    "importlib.reload(me)\n",
    "importlib.reload(se)\n"
   ]
  },
  {
   "cell_type": "code",
   "execution_count": null,
   "metadata": {},
   "outputs": [],
   "source": [
    "importlib.reload(ds)\n",
    "importlib.reload(sa)\n",
    "importlib.reload(ma)\n",
    "\n",
    "# load latest data\n",
    "df_base_inputs =  pd.read_csv(os.path.join(sa.dir_ref, \"fake_data\", \"fake_data_complete.csv\"))\n",
    "df_input_data = pd.read_csv(\"/Users/jsyme/Downloads/data_complete_future_2022_07_31_test.csv\")\n",
    "df_mean_transition_0 = pd.read_csv(sa.fp_csv_transition_probability_estimation_mean.replace(\".csv\", \"tmp.csv\"))\n",
    "# set up some required components\n",
    "optimization_approach = \"max_diagonal\"\n",
    "all_countries = sorted(list(set(df_input_data[\"Nation\"])))\n",
    "# initialize the model\n",
    "model_afolu = ma.AFOLU(sa.model_attributes)\n",
    "\n",
    "crop_area_total = 0.0\n",
    "t_0 = time.time()\n",
    "warnings.filterwarnings(\"ignore\")\n",
    "\n",
    "for country in all_countries:\n",
    "    # filter and prepare\n",
    "    df_input = df_input_data[df_input_data[\"Nation\"] == country].reset_index(drop = True).copy();\n",
    "    df_cat = df_base_inputs[[x for x in df_base_inputs.columns if x not in df_input.columns]]\n",
    "    df_input = pd.concat([df_input, df_cat], axis = 1)\n",
    "\n",
    "    # update some fields\n",
    "    df_input[\"frac_agrc_initial_yield_feed_sugar_cane\"] = 0\n",
    "    df_input[\"lndu_reallocation_factor\"] = 1\n",
    "    df_input[\"elasticity_agrc_sugar_cane_demand_to_income\"] = 0.05\n",
    "\n",
    "    # update transitions\n",
    "    fields_ow = []\n",
    "    df_mean_transition = df_mean_transition_0[\n",
    "        df_mean_transition_0[\"country\"].isin([country]) & \n",
    "        df_mean_transition_0[\"optimization_bound\"].isin([optimization_approach])\n",
    "    ].copy().reset_index(drop = True)\n",
    "    cols_loop = [x for x in df_mean_transition.columns if (x not in [\"country\", \"year\", \"optimization_bound\"])]\n",
    "    for k in cols_loop:\n",
    "        k_new = f\"pij_lndu_{k}\"\n",
    "        if k_new in df_input.columns:\n",
    "            df_input[k_new] = float(df_mean_transition[k])\n",
    "            fields_ow.append(k_new)\n",
    "\n",
    "    # update crop area total\n",
    "    df_output = model_afolu.project(df_input)\n",
    "    crop_area_total += np.sum(sa.model_attributes.get_standard_variables(df_output, model_afolu.modvar_agrc_area_crop, \"array_base\"), axis = 1)\n",
    "    \n",
    "    t_cur = time.time()\n",
    "    t_elapse = np.round(t_cur - t_0, 2)\n",
    "    print(f\"Country {country} complete.\\n\\tTotal time: {t_elapse} seconds\\n\")\n",
    "    \n",
    "\n"
   ]
  },
  {
   "cell_type": "code",
   "execution_count": 11,
   "metadata": {},
   "outputs": [
    {
     "data": {
      "text/plain": [
       "0     3.009187e+08\n",
       "1     2.931738e+08\n",
       "2     2.920528e+08\n",
       "3     2.909902e+08\n",
       "4     2.899804e+08\n",
       "5     2.888197e+08\n",
       "6     2.878975e+08\n",
       "7     2.870145e+08\n",
       "8     2.861671e+08\n",
       "9     2.853520e+08\n",
       "10    2.845664e+08\n",
       "11    2.838076e+08\n",
       "12    2.830734e+08\n",
       "13    2.823617e+08\n",
       "14    2.816706e+08\n",
       "15    2.809984e+08\n",
       "16    2.803437e+08\n",
       "17    2.797051e+08\n",
       "18    2.790814e+08\n",
       "19    2.784715e+08\n",
       "20    2.778745e+08\n",
       "21    2.772894e+08\n",
       "22    2.767155e+08\n",
       "23    2.761520e+08\n",
       "24    2.755984e+08\n",
       "25    2.750540e+08\n",
       "26    2.745183e+08\n",
       "27    2.739908e+08\n",
       "28    2.734712e+08\n",
       "29    2.729590e+08\n",
       "30    2.724538e+08\n",
       "31    2.719555e+08\n",
       "32    2.714635e+08\n",
       "33    2.709778e+08\n",
       "34    2.704980e+08\n",
       "35    2.700239e+08\n",
       "dtype: float64"
      ]
     },
     "execution_count": 11,
     "metadata": {},
     "output_type": "execute_result"
    }
   ],
   "source": [
    "crop_area_total"
   ]
  },
  {
   "cell_type": "code",
   "execution_count": 7,
   "metadata": {},
   "outputs": [
    {
     "data": {
      "text/plain": [
       "Series([], Name: country, dtype: object)"
      ]
     },
     "execution_count": 7,
     "metadata": {},
     "output_type": "execute_result"
    }
   ],
   "source": [
    "df_mean_transition[\"country\"]"
   ]
  },
  {
   "cell_type": "code",
   "execution_count": null,
   "metadata": {},
   "outputs": [],
   "source": []
  },
  {
   "cell_type": "code",
   "execution_count": null,
   "metadata": {},
   "outputs": [],
   "source": [
    "print(df_output[[x for x in df_output.columns if ((\"emission_co2e\" in x) and ((\"agrc\" in x) or (\"frst\" in x)))]][\"emission_co2e_co2_agrc_soil_carbon_mineral_soils\"].head())\n",
    "df_output[[x for x in df_output.columns if ((\"emission_co2e\" in x) and ((\"agrc\" in x) or (\"frst\" in x)))]][\"emission_co2e_co2_agrc_soil_carbon_mineral_soils\"].plot()\n"
   ]
  }
 ],
 "metadata": {
  "kernelspec": {
   "display_name": "Python 3",
   "language": "python",
   "name": "python3"
  },
  "language_info": {
   "codemirror_mode": {
    "name": "ipython",
    "version": 3
   },
   "file_extension": ".py",
   "mimetype": "text/x-python",
   "name": "python",
   "nbconvert_exporter": "python",
   "pygments_lexer": "ipython3",
   "version": "3.8.5"
  }
 },
 "nbformat": 4,
 "nbformat_minor": 4
}
