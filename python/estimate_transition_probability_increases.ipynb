{
 "cells": [
  {
   "cell_type": "code",
   "execution_count": 1,
   "metadata": {},
   "outputs": [
    {
     "name": "stderr",
     "output_type": "stream",
     "text": [
      "/Users/jsyme/Documents/Projects/git_jbus/lac_decarbonization/python/data_structures.py:721: UserWarning: Invalid subsector attribute 'key_varreqs_partial'. Valid return type values are:'pycategory_primary', 'abv_subsector', 'sector', 'abv_sector', 'key_varreqs_all'\n",
      "  warnings.warn(f\"Invalid subsector attribute '{return_type}'. Valid return type values are:{valid_rts}\")\n",
      "/Users/jsyme/Documents/Projects/git_jbus/lac_decarbonization/python/data_structures.py:721: UserWarning: Invalid subsector attribute 'key_varreqs_partial'. Valid return type values are:'pycategory_primary', 'abv_subsector', 'sector', 'abv_sector', 'key_varreqs_all'\n",
      "  warnings.warn(f\"Invalid subsector attribute '{return_type}'. Valid return type values are:{valid_rts}\")\n"
     ]
    },
    {
     "data": {
      "text/plain": [
       "<module 'model_socioeconomic' from '/Users/jsyme/Documents/Projects/git_jbus/lac_decarbonization/python/model_socioeconomic.py'>"
      ]
     },
     "execution_count": 1,
     "metadata": {},
     "output_type": "execute_result"
    }
   ],
   "source": [
    "import os, os.path\n",
    "import numpy as np\n",
    "import pandas as pd\n",
    "import data_structures as ds\n",
    "import model_afolu as ma\n",
    "import model_ippu as mi\n",
    "import model_circular_economy as mc\n",
    "import model_energy as me\n",
    "import model_socioeconomic as se\n",
    "from model_socioeconomic import Socioeconomic\n",
    "import setup_analysis as sa\n",
    "import support_functions as sf\n",
    "import importlib\n",
    "import time\n",
    "import warnings\n",
    "import matplotlib.pyplot as plt\n",
    "\n",
    "importlib.reload(ds)\n",
    "importlib.reload(sa)\n",
    "importlib.reload(sf)\n",
    "importlib.reload(ma)\n",
    "importlib.reload(mc)\n",
    "importlib.reload(mi)\n",
    "importlib.reload(me)\n",
    "importlib.reload(se)\n"
   ]
  },
  {
   "cell_type": "code",
   "execution_count": 12,
   "metadata": {},
   "outputs": [
    {
     "name": "stdout",
     "output_type": "stream",
     "text": [
      "Country argentina complete.\n",
      "\tTotal time: 0.45 seconds\n",
      "\n",
      "Country bahamas complete.\n",
      "\tTotal time: 0.82 seconds\n",
      "\n",
      "Country barbados complete.\n",
      "\tTotal time: 1.6 seconds\n",
      "\n",
      "Country belize complete.\n",
      "\tTotal time: 2.44 seconds\n",
      "\n",
      "Country bolivia complete.\n",
      "\tTotal time: 2.81 seconds\n",
      "\n",
      "Country brazil complete.\n",
      "\tTotal time: 3.15 seconds\n",
      "\n",
      "Country chile complete.\n",
      "\tTotal time: 3.52 seconds\n",
      "\n",
      "Country colombia complete.\n",
      "\tTotal time: 3.91 seconds\n",
      "\n",
      "Country costa_rica complete.\n",
      "\tTotal time: 4.31 seconds\n",
      "\n",
      "Country dominican_republic complete.\n",
      "\tTotal time: 5.19 seconds\n",
      "\n",
      "Country ecuador complete.\n",
      "\tTotal time: 5.62 seconds\n",
      "\n",
      "Country el_salvador complete.\n",
      "\tTotal time: 5.94 seconds\n",
      "\n",
      "Country guatemala complete.\n",
      "\tTotal time: 6.77 seconds\n",
      "\n",
      "Country guyana complete.\n",
      "\tTotal time: 7.41 seconds\n",
      "\n",
      "Country haiti complete.\n",
      "\tTotal time: 7.74 seconds\n",
      "\n",
      "Country honduras complete.\n",
      "\tTotal time: 8.2 seconds\n",
      "\n",
      "Country jamaica complete.\n",
      "\tTotal time: 9.06 seconds\n",
      "\n",
      "Country mexico complete.\n",
      "\tTotal time: 9.46 seconds\n",
      "\n",
      "Country nicaragua complete.\n",
      "\tTotal time: 9.82 seconds\n",
      "\n",
      "Country panama complete.\n",
      "\tTotal time: 10.21 seconds\n",
      "\n",
      "Country paraguay complete.\n",
      "\tTotal time: 10.59 seconds\n",
      "\n",
      "Country peru complete.\n",
      "\tTotal time: 11.43 seconds\n",
      "\n",
      "Country suriname complete.\n",
      "\tTotal time: 11.86 seconds\n",
      "\n",
      "Country trinidad_and_tobago complete.\n",
      "\tTotal time: 12.64 seconds\n",
      "\n",
      "Country uruguay complete.\n",
      "\tTotal time: 13.06 seconds\n",
      "\n",
      "Country venezuela complete.\n",
      "\tTotal time: 13.39 seconds\n",
      "\n"
     ]
    }
   ],
   "source": [
    "importlib.reload(ds)\n",
    "importlib.reload(sa)\n",
    "importlib.reload(ma)\n",
    "\n",
    "# load latest data\n",
    "df_base_inputs =  pd.read_csv(os.path.join(sa.dir_ref, \"fake_data\", \"fake_data_complete.csv\"))\n",
    "df_input_data = pd.read_csv(\"/Users/jsyme/Downloads/data_complete_future_2022_07_31_test.csv\")\n",
    "df_mean_transition_0 = pd.read_csv(sa.fp_csv_transition_probability_estimation_mean.replace(\".csv\", \"tmp.csv\"))\n",
    "# set up some required components\n",
    "optimization_approach = \"max_diagonal\"\n",
    "all_countries = sorted(list(set(df_input_data[\"Nation\"])))\n",
    "# initialize the model\n",
    "model_afolu = ma.AFOLU(sa.model_attributes)\n",
    "\n",
    "crop_area_total = 0.0\n",
    "t_0 = time.time()\n",
    "warnings.filterwarnings(\"ignore\")\n",
    "\n",
    "for country in all_countries:\n",
    "    # filter and prepare\n",
    "    df_input = df_input_data[df_input_data[\"Nation\"] == country].reset_index(drop = True).copy();\n",
    "    df_cat = df_base_inputs[[x for x in df_base_inputs.columns if x not in df_input.columns]]\n",
    "    df_input = pd.concat([df_input, df_cat], axis = 1)\n",
    "\n",
    "    # update some fields\n",
    "    df_input[\"frac_agrc_initial_yield_feed_sugar_cane\"] = 0\n",
    "    df_input[\"lndu_reallocation_factor\"] = 1\n",
    "    df_input[\"elasticity_agrc_sugar_cane_demand_to_income\"] = 0.05\n",
    "\n",
    "    # update transitions\n",
    "    fields_ow = []\n",
    "    df_mean_transition = df_mean_transition_0[\n",
    "        df_mean_transition_0[\"country\"].isin([country]) & \n",
    "        df_mean_transition_0[\"optimization_bound\"].isin([optimization_approach])\n",
    "    ].copy().reset_index(drop = True)\n",
    "    cols_loop = [x for x in df_mean_transition.columns if (x not in [\"country\", \"year\", \"optimization_bound\"])]\n",
    "    for k in cols_loop:\n",
    "        k_new = f\"pij_lndu_{k}\"\n",
    "        if k_new in df_input.columns:\n",
    "            df_input[k_new] = float(df_mean_transition[k])\n",
    "            fields_ow.append(k_new)\n",
    "\n",
    "    # update crop area total\n",
    "    df_output = model_afolu.project(df_input)\n",
    "    crop_area_total += np.sum(sa.model_attributes.get_standard_variables(df_output, model_afolu.modvar_agrc_area_crop, \"array_base\"), axis = 1)\n",
    "    \n",
    "    t_cur = time.time()\n",
    "    t_elapse = np.round(t_cur - t_0, 2)\n",
    "    print(f\"Country {country} complete.\\n\\tTotal time: {t_elapse} seconds\\n\")\n",
    "    \n",
    "\n"
   ]
  },
  {
   "cell_type": "code",
   "execution_count": 14,
   "metadata": {},
   "outputs": [
    {
     "data": {
      "text/plain": [
       "[<matplotlib.lines.Line2D at 0x7fbfc080d850>]"
      ]
     },
     "execution_count": 14,
     "metadata": {},
     "output_type": "execute_result"
    },
    {
     "data": {
      "image/png": "[encoded data removed]",
      "text/plain": [
       "<Figure size 432x288 with 1 Axes>"
      ]
     },
     "metadata": {
      "needs_background": "light"
     },
     "output_type": "display_data"
    }
   ],
   "source": [
    "plt.plot(crop_area_total)"
   ]
  },
  {
   "cell_type": "code",
   "execution_count": 7,
   "metadata": {},
   "outputs": [
    {
     "data": {
      "text/plain": [
       "Series([], Name: country, dtype: object)"
      ]
     },
     "execution_count": 7,
     "metadata": {},
     "output_type": "execute_result"
    }
   ],
   "source": [
    "df_mean_transition[\"country\"]"
   ]
  },
  {
   "cell_type": "code",
   "execution_count": null,
   "metadata": {},
   "outputs": [],
   "source": []
  },
  {
   "cell_type": "code",
   "execution_count": null,
   "metadata": {},
   "outputs": [],
   "source": [
    "print(df_output[[x for x in df_output.columns if ((\"emission_co2e\" in x) and ((\"agrc\" in x) or (\"frst\" in x)))]][\"emission_co2e_co2_agrc_soil_carbon_mineral_soils\"].head())\n",
    "df_output[[x for x in df_output.columns if ((\"emission_co2e\" in x) and ((\"agrc\" in x) or (\"frst\" in x)))]][\"emission_co2e_co2_agrc_soil_carbon_mineral_soils\"].plot()\n"
   ]
  }
 ],
 "metadata": {
  "kernelspec": {
   "display_name": "Python 3",
   "language": "python",
   "name": "python3"
  },
  "language_info": {
   "codemirror_mode": {
    "name": "ipython",
    "version": 3
   },
   "file_extension": ".py",
   "mimetype": "text/x-python",
   "name": "python",
   "nbconvert_exporter": "python",
   "pygments_lexer": "ipython3",
   "version": "3.8.5"
  }
 },
 "nbformat": 4,
 "nbformat_minor": 4
}
