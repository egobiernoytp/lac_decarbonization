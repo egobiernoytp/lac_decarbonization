{
 "cells": [
  {
   "cell_type": "code",
   "execution_count": 1,
   "metadata": {},
   "outputs": [
    {
     "name": "stderr",
     "output_type": "stream",
     "text": [
      "\u001b[32m\u001b[1m Activating\u001b[22m\u001b[39m environment at `~/Documents/Projects/git_jbus/lac_decarbonization/julia/Project.toml`\n"
     ]
    },
    {
     "data": {
      "text/plain": [
       "\"/Users/jsyme/Documents/Projects/git_jbus/lac_decarbonization/ref\""
      ]
     },
     "execution_count": 1,
     "metadata": {},
     "output_type": "execute_result"
    }
   ],
   "source": [
    "using Pkg\n",
    "Pkg.activate(\".\")\n",
    "\n",
    "using DataFrames\n",
    "using NemoMod\n",
    "using SQLite\n",
    "using Cbc\n",
    "using JuMP\n",
    "\n",
    "\n",
    "include(\"setup_analysis.jl\")"
   ]
  },
  {
   "cell_type": "code",
   "execution_count": 9,
   "metadata": {},
   "outputs": [
    {
     "data": {
      "text/plain": [
       "\"/Users/jsyme/Documents/Projects/git_jbus/lac_decarbonization/ref\""
      ]
     },
     "execution_count": 9,
     "metadata": {},
     "output_type": "execute_result"
    }
   ],
   "source": [
    "include(\"setup_analysis.jl\")"
   ]
  },
  {
   "cell_type": "code",
   "execution_count": 20,
   "metadata": {},
   "outputs": [
    {
     "name": "stderr",
     "output_type": "stream",
     "text": [
      "┌ Warning: thread = 1 warning: only found 5 / 6 columns around data row: 12. Filling remaining columns with `missing`\n",
      "└ @ CSV /Users/jsyme/.julia/packages/CSV/Zl2ww/src/file.jl:612\n",
      "┌ Warning: thread = 1 warning: only found 5 / 6 columns around data row: 23. Filling remaining columns with `missing`\n",
      "└ @ CSV /Users/jsyme/.julia/packages/CSV/Zl2ww/src/file.jl:612\n",
      "┌ Warning: thread = 1 warning: only found 5 / 6 columns around data row: 11. Filling remaining columns with `missing`\n",
      "└ @ CSV /Users/jsyme/.julia/packages/CSV/Zl2ww/src/file.jl:612\n"
     ]
    }
   ],
   "source": [
    "#\n",
    "#  TEMPORARY LOCATIONS FOR PROOF OF CONCEPT\n",
    "#\n",
    "\n",
    "dir_attributes = \"/Users/jsyme/Documents/Projects/git_jbus/lac-tutorial/docs/source/csvs\"\n",
    "\n",
    "at_fuel = AttributeTable(\n",
    "    joinpath(dir_attributes, \"attribute_cat_fuel.csv\"),\n",
    "    Symbol(\"``\\$CAT-FUEL\\$``\"), \n",
    "    [Symbol(\"Category Name\")],\n",
    "    true\n",
    ");\n",
    "\n",
    "at_region = AttributeTable(\n",
    "    joinpath(dir_attributes, \"attribute_cat_region.csv\"),\n",
    "    Symbol(\"``\\$REGION\\$``\"),\n",
    "    [Symbol(\"Category Name\")],\n",
    "    true\n",
    ");\n",
    "\n",
    "at_technology = AttributeTable(\n",
    "    joinpath(dir_attributes, \"attribute_cat_technology.csv\"),\n",
    "    Symbol(\"``\\$CAT-TECHNOLOGY\\$``\"),\n",
    "    [Symbol(\"Category Name\")],\n",
    "    true\n",
    ");\n",
    "\n",
    "\n"
   ]
  },
  {
   "cell_type": "code",
   "execution_count": 21,
   "metadata": {},
   "outputs": [
    {
     "data": {
      "text/plain": [
       "11-element Array{String,1}:\n",
       " \"fuel_biomass\"\n",
       " \"fuel_coal\"\n",
       " \"fuel_electricity\"\n",
       " \"fuel_gas\"\n",
       " \"fuel_geothermal\"\n",
       " \"fuel_hydropower\"\n",
       " \"fuel_nuclear\"\n",
       " \"fuel_oil\"\n",
       " \"fuel_other\"\n",
       " \"fuel_solar\"\n",
       " \"fuel_wind\""
      ]
     },
     "execution_count": 21,
     "metadata": {},
     "output_type": "execute_result"
    }
   ],
   "source": [
    "at_fuel.key_vals"
   ]
  },
  {
   "cell_type": "code",
   "execution_count": null,
   "metadata": {},
   "outputs": [],
   "source": [
    "\n"
   ]
  },
  {
   "cell_type": "code",
   "execution_count": 16,
   "metadata": {},
   "outputs": [
    {
     "ename": "LoadError",
     "evalue": "\u001b[91mUndefVarError: dict_tables not defined\u001b[39m",
     "output_type": "error",
     "traceback": [
      "\u001b[91mUndefVarError: dict_tables not defined\u001b[39m",
      "",
      "Stacktrace:",
      " [1] top-level scope at In[16]:7",
      " [2] include_string(::Function, ::Module, ::String, ::String) at ./loading.jl:1091"
     ]
    }
   ],
   "source": [
    "# get technology categories for integration into tables\n",
    "keys_technology = collect(at_technology.table[:, at_technology.key])\n",
    "categories_technology = [replace(at_technology.field_maps[\"cat_technology_to_category_name\"][x], \"`\" => \"\") for x in keys_technology]\n",
    "categories_technology\n",
    "\n",
    "##  \n",
    "keys_sorted = sort(collect(keys(dict_tables)))\n",
    "files_to_specify = []\n",
    "for k in keys_sorted\n",
    "    if nrow(dict_tables[k]) > 0\n",
    "        push!(files_to_specify, k)\n",
    "    end\n",
    "end;\n"
   ]
  },
  {
   "cell_type": "code",
   "execution_count": null,
   "metadata": {},
   "outputs": [],
   "source": []
  },
  {
   "cell_type": "code",
   "execution_count": 17,
   "metadata": {},
   "outputs": [],
   "source": [
    "\n",
    "##  function for getting powerplants\n",
    "function get_powerplants(\n",
    "        fp_powerplant_data::String, \n",
    "        dict_ext::Dict{Symbol, String}, \n",
    "        attribute_tech::AttributeTable,\n",
    "        attribute_region::AttributeTable,\n",
    "        field_region::Symbol = :country,\n",
    "        field_fuel::Symbol = :primary_fuel\n",
    "    )\n",
    "    \n",
    "    # checkt the dictionary\n",
    "    if !issubset(Set(values(dict_ext)), Set([\"group\", \"sum\", \"mean\"]))\n",
    "        error(\"Error in dict_ext: invalid values.\")\n",
    "    end\n",
    "    fields_ext = Symbol.(collect(keys(dict_ext)))\n",
    "    fields_grp = [Symbol(x) for x in keys(dict_ext) if (dict_ext[x] == \"group\")]\n",
    "    dict_agg = Dict()\n",
    "    for k in fields_ext\n",
    "        if !(k in fields_grp)\n",
    "            if dict_ext[k] == \"sum\"\n",
    "                dict_agg[k] = sum\n",
    "            elseif dict_agg[k] == \"mean\"\n",
    "                dict_ext[k] = mean\n",
    "            end\n",
    "        end\n",
    "    end\n",
    "    fields_data = Symbol.(collect(keys(dict_agg)))\n",
    "    \n",
    "    \n",
    "    # get the dataframe\n",
    "    fp_powerplant_data = check_path(fp_powerplant_data, false)\n",
    "    df_pp = read_csv(fp_powerplant_data, true)\n",
    "    # check fields in the extraction dictionary \n",
    "    check_fields!(df_pp, fields_ext)\n",
    "    \n",
    "    \n",
    "    ##  setup techs to replace (from attribute table)\n",
    "    categories_tech = Set(replace.(attribute_tech.table[:, \"cat_technology\"], \"`\" => \"\"))\n",
    "    set_fuels_pp = union([Set(df_pp[:, x]) for x in names(df_pp) if occursin(\"fuel\", x)]...);\n",
    "    tech_src = collect(skipmissing(set_fuels_pp))\n",
    "    tech_targ = \"pp_\".*replace(lowercase.(tech_src), \"hydro\" => \"hydropower\")\n",
    "    for i in 1:length(tech_src)\n",
    "        tech = tech_targ[i]\n",
    "        if !(tech in categories_tech)\n",
    "            tech_targ[i] = \"pp_other\"\n",
    "        end\n",
    "    end\n",
    "    # a dictionary to replace the values with the techs in\n",
    "    dict_pp_repl = Dict(zip(tech_src, tech_targ))\n",
    "    all_pp_for_cross = sort(collect(intersect(categories_tech, Set(tech_targ))))\n",
    "\n",
    "    ##  get region info (lower case)\n",
    "    all_regions = replace.(keys(at_region.field_maps[\"region_to_category_name\"]), \"`\" => \"\")\n",
    "\n",
    "    ##  very basic approach -- get energy totals by country\n",
    "    df_energy = copy(df_pp[:, fields_ext])\n",
    "    for nm in fields_grp\n",
    "        df_energy[!, nm] = String.(df_energy[!, nm])\n",
    "    end \n",
    "    for fld in Symbol.(collect(keys(dict_agg)))\n",
    "        df_energy[!, fld] = Float64.(df_energy[!, fld])\n",
    "    end\n",
    "    \n",
    "    df_energy[!, field_fuel] = replace(df_energy[:, field_fuel], dict_pp_repl...)\n",
    "    df_energy[!, field_region] = lowercase.(df_energy[:, field_region])\n",
    "    df_energy = combine(groupby(df_energy, fields_grp), Dict(:capacity_mw => sum)..., renamecols = false);\n",
    "    df_energy0 = copy(df_energy)\n",
    "    #reshape(collect(Iterators.product([1, 2, 3], [1, 2, 3], [1, 2])), (18, ))\n",
    "    dfe = crossjoin(DataFrame(field_region => all_regions), DataFrame(field_fuel => all_pp_for_cross))\n",
    "    df_energy = leftjoin(dfe, df_energy, on = Symbol.(names(dfe)));\n",
    "    for fld in fields_data\n",
    "        df_energy[!, fld] = replace(coalesce(df_energy[!, fld]), missing => 0.0);\n",
    "    end\n",
    "    \n",
    "    return sort(df_energy, [field_region, field_fuel])\n",
    "end\n",
    "\n",
    "\n",
    "df_energy = get_powerplants(\n",
    "    \"/Users/jsyme/Documents/Projects/FY21/SWCHE131_1000/Data/LAC_global_power_plant_database.csv\",\n",
    "    Dict(:country => \"group\", :primary_fuel => \"group\", :capacity_mw => \"sum\"),\n",
    "    at_technology,\n",
    "    at_region\n",
    ");\n",
    "\n",
    "\n"
   ]
  },
  {
   "cell_type": "code",
   "execution_count": 47,
   "metadata": {},
   "outputs": [
    {
     "data": {
      "text/plain": [
       "build_nemo_attribute (generic function with 3 methods)"
      ]
     },
     "execution_count": 47,
     "metadata": {},
     "output_type": "execute_result"
    }
   ],
   "source": [
    "##########################################################################\n",
    "###                                                                    ###\n",
    "###    DEFINE FUNCTIONS TO CONVERT DATA TO NEMO MOD INPUT DB TABLES    ###\n",
    "###                                                                    ###\n",
    "##########################################################################\n",
    "\n",
    "# attribute table\n",
    "function build_nemo_attribute(attribute_table::AttributeTable, field_category::Symbol, field_description::Symbol)\n",
    "    \n",
    "    df_out = copy(attribute_table.table)\n",
    "    fields_ext = [field_category, field_description]\n",
    "    check_fields!(df_out, fields_ext)\n",
    "    df_out = df_out[:, [field_category, field_description]]\n",
    "    \n",
    "    rename!(df_out, Dict(field_category => :val, field_description => :desc))\n",
    "    \n",
    "    return df_out\n",
    "end\n",
    "\n",
    "\n"
   ]
  },
  {
   "cell_type": "code",
   "execution_count": 53,
   "metadata": {},
   "outputs": [
    {
     "data": {
      "text/html": [
       "<table class=\"data-frame\"><thead><tr><th></th><th>val</th><th>desc</th></tr><tr><th></th><th>String</th><th>String</th></tr></thead><tbody><p>22 rows × 2 columns</p><tr><th>1</th><td>arg</td><td>Argentina</td></tr><tr><th>2</th><td>bol</td><td>Bolivia</td></tr><tr><th>3</th><td>bra</td><td>Brazil</td></tr><tr><th>4</th><td>chl</td><td>Chile</td></tr><tr><th>5</th><td>col</td><td>Colombia</td></tr><tr><th>6</th><td>cri</td><td>Costa Rica</td></tr><tr><th>7</th><td>dom</td><td>Dominican Republic</td></tr><tr><th>8</th><td>ecu</td><td>Ecuador</td></tr><tr><th>9</th><td>slv</td><td>El Salvador</td></tr><tr><th>10</th><td>gtm</td><td>Guatemala</td></tr><tr><th>11</th><td>guy</td><td>Guyana</td></tr><tr><th>12</th><td>hnd</td><td>Honduras</td></tr><tr><th>13</th><td>jam</td><td>Jamaica</td></tr><tr><th>14</th><td>mex</td><td>Mexico</td></tr><tr><th>15</th><td>nic</td><td>Nicaragua</td></tr><tr><th>16</th><td>pan</td><td>Panama</td></tr><tr><th>17</th><td>pry</td><td>Paraguay</td></tr><tr><th>18</th><td>per</td><td>Peru</td></tr><tr><th>19</th><td>sur</td><td>Suriname</td></tr><tr><th>20</th><td>tto</td><td>Trinidad and Tobago</td></tr><tr><th>21</th><td>ury</td><td>Uruguay</td></tr><tr><th>22</th><td>ven</td><td>Venezuela</td></tr></tbody></table>"
      ],
      "text/latex": [
       "\\begin{tabular}{r|cc}\n",
       "\t& val & desc\\\\\n",
       "\t\\hline\n",
       "\t& String & String\\\\\n",
       "\t\\hline\n",
       "\t1 & arg & Argentina \\\\\n",
       "\t2 & bol & Bolivia \\\\\n",
       "\t3 & bra & Brazil \\\\\n",
       "\t4 & chl & Chile \\\\\n",
       "\t5 & col & Colombia \\\\\n",
       "\t6 & cri & Costa Rica \\\\\n",
       "\t7 & dom & Dominican Republic \\\\\n",
       "\t8 & ecu & Ecuador \\\\\n",
       "\t9 & slv & El Salvador \\\\\n",
       "\t10 & gtm & Guatemala \\\\\n",
       "\t11 & guy & Guyana \\\\\n",
       "\t12 & hnd & Honduras \\\\\n",
       "\t13 & jam & Jamaica \\\\\n",
       "\t14 & mex & Mexico \\\\\n",
       "\t15 & nic & Nicaragua \\\\\n",
       "\t16 & pan & Panama \\\\\n",
       "\t17 & pry & Paraguay \\\\\n",
       "\t18 & per & Peru \\\\\n",
       "\t19 & sur & Suriname \\\\\n",
       "\t20 & tto & Trinidad and Tobago \\\\\n",
       "\t21 & ury & Uruguay \\\\\n",
       "\t22 & ven & Venezuela \\\\\n",
       "\\end{tabular}\n"
      ],
      "text/plain": [
       "\u001b[1m22×2 DataFrame\u001b[0m\n",
       "\u001b[1m Row \u001b[0m│\u001b[1m val    \u001b[0m\u001b[1m desc                \u001b[0m\n",
       "\u001b[1m     \u001b[0m│\u001b[90m String \u001b[0m\u001b[90m String              \u001b[0m\n",
       "─────┼─────────────────────────────\n",
       "   1 │ arg     Argentina\n",
       "   2 │ bol     Bolivia\n",
       "   3 │ bra     Brazil\n",
       "   4 │ chl     Chile\n",
       "   5 │ col     Colombia\n",
       "   6 │ cri     Costa Rica\n",
       "   7 │ dom     Dominican Republic\n",
       "   8 │ ecu     Ecuador\n",
       "   9 │ slv     El Salvador\n",
       "  10 │ gtm     Guatemala\n",
       "  11 │ guy     Guyana\n",
       "  12 │ hnd     Honduras\n",
       "  13 │ jam     Jamaica\n",
       "  14 │ mex     Mexico\n",
       "  15 │ nic     Nicaragua\n",
       "  16 │ pan     Panama\n",
       "  17 │ pry     Paraguay\n",
       "  18 │ per     Peru\n",
       "  19 │ sur     Suriname\n",
       "  20 │ tto     Trinidad and Tobago\n",
       "  21 │ ury     Uruguay\n",
       "  22 │ ven     Venezuela"
      ]
     },
     "execution_count": 53,
     "metadata": {},
     "output_type": "execute_result"
    }
   ],
   "source": [
    "#######################################\n",
    "#    build tables to export to SQL    #\n",
    "#######################################\n",
    "\n",
    "dict_tables_out = Dict{String, DataFrame}()\n",
    "\n",
    "dict_tables_out[\"FUEL\"] = build_nemo_attribute(at_fuel, at_fuel.key, :description)\n",
    "dict_tables_out[\"TECHNOLOGY\"] = build_nemo_attribute(at_technology, at_technology.key, :description)\n",
    "dict_tables_out[\"REGION\"] = build_nemo_attribute(at_region, at_region.key, :category_name)\n",
    "\n"
   ]
  },
  {
   "cell_type": "code",
   "execution_count": null,
   "metadata": {},
   "outputs": [],
   "source": [
    "##### reshape(collect(Iterators.product([1, 2, 3], [1, 2, 3], [1, 2])), (18, ))"
   ]
  },
  {
   "cell_type": "code",
   "execution_count": 46,
   "metadata": {},
   "outputs": [
    {
     "name": "stdout",
     "output_type": "stream",
     "text": [
      "EMISSION\n",
      "FUEL\n",
      "STORAGE\n",
      "REGION\n",
      "TECHNOLOGY\n",
      "NODE\n",
      "MODE_OF_OPERATION\n",
      "TIMESLICE\n",
      "YEAR\n"
     ]
    }
   ],
   "source": [
    "for k in keys(dict_tables)\n",
    "    if issubset(Set([\"val\", \"desc\"]), Set(names(dict_tables[k])))\n",
    "        print(\"$(k)\\n\")\n",
    "    end\n",
    "end"
   ]
  },
  {
   "cell_type": "code",
   "execution_count": null,
   "metadata": {},
   "outputs": [],
   "source": [
    "#### dbpath = normpath(joinpath(pathof(NemoMod), \"..\", \"..\", \"test\", \"storage_test.sqlite\"))\n",
    "# it's important to set numprocs = 1; the parallelization doesn't seem to export the package (or the environment?). need to report\n",
    "NemoMod.calculatescenario(dbpath; jumpmodel=Model(Cbc.Optimizer), numprocs = 1)\n",
    "\n"
   ]
  },
  {
   "cell_type": "code",
   "execution_count": 26,
   "metadata": {},
   "outputs": [
    {
     "data": {
      "text/plain": [
       "SQLite.DB(\"/Users/jsyme/.julia/packages/NemoMod/OkhEV/test/storage_test.sqlite\")"
      ]
     },
     "execution_count": 26,
     "metadata": {},
     "output_type": "execute_result"
    }
   ],
   "source": [
    "dbpath = normpath(joinpath(pathof(NemoMod), \"..\", \"..\", \"test\", \"storage_test.sqlite\"))\n",
    "db = SQLite.DB(dbpath)"
   ]
  },
  {
   "cell_type": "code",
   "execution_count": 24,
   "metadata": {},
   "outputs": [
    {
     "ename": "LoadError",
     "evalue": "\u001b[91mUndefVarError: dbpath not defined\u001b[39m",
     "output_type": "error",
     "traceback": [
      "\u001b[91mUndefVarError: dbpath not defined\u001b[39m",
      "",
      "Stacktrace:",
      " [1] top-level scope at In[24]:1",
      " [2] include_string(::Function, ::Module, ::String, ::String) at ./loading.jl:1091"
     ]
    }
   ],
   "source": []
  },
  {
   "cell_type": "code",
   "execution_count": 27,
   "metadata": {
    "collapsed": true,
    "jupyter": {
     "outputs_hidden": true
    }
   },
   "outputs": [
    {
     "name": "stdout",
     "output_type": "stream",
     "text": [
      "\n",
      "Finished with table EMISSION...\n",
      "\n",
      "Finished with table FUEL...\n",
      "\n",
      "Finished with table MODE_OF_OPERATION...\n",
      "\n",
      "Finished with table REGION...\n",
      "\n",
      "Finished with table TECHNOLOGY...\n",
      "\n",
      "Finished with table TIMESLICE...\n",
      "\n",
      "Finished with table TSGROUP1...\n",
      "\n",
      "Finished with table TSGROUP2...\n",
      "\n",
      "Finished with table YEAR...\n",
      "\n",
      "Finished with table YearSplit...\n",
      "\n",
      "Finished with table VariableCost...\n",
      "\n",
      "Finished with table TradeRoute...\n",
      "\n",
      "Finished with table TotalTechnologyModelPeriodActivityUpperLimit...\n",
      "\n",
      "Finished with table TotalTechnologyModelPeriodActivityLowerLimit...\n",
      "\n",
      "Finished with table TotalTechnologyAnnualActivityUpperLimit...\n",
      "\n",
      "Finished with table TotalTechnologyAnnualActivityLowerLimit...\n",
      "\n",
      "Finished with table TotalAnnualMinCapacityInvestment...\n",
      "\n",
      "Finished with table TotalAnnualMinCapacityInvestmentStorage...\n",
      "\n",
      "Finished with table TotalAnnualMinCapacity...\n",
      "\n",
      "Finished with table TotalAnnualMinCapacityStorage...\n",
      "\n",
      "Finished with table TotalAnnualMaxCapacityInvestment...\n",
      "\n",
      "Finished with table TotalAnnualMaxCapacityInvestmentStorage...\n",
      "\n",
      "Finished with table TotalAnnualMaxCapacity...\n",
      "\n",
      "Finished with table TotalAnnualMaxCapacityStorage...\n",
      "\n",
      "Finished with table TechnologyToStorage...\n",
      "\n",
      "Finished with table TechnologyFromStorage...\n",
      "\n",
      "Finished with table StorageMaxDischargeRate...\n",
      "\n",
      "Finished with table StorageMaxChargeRate...\n",
      "\n",
      "Finished with table StorageLevelStart...\n",
      "\n",
      "Finished with table SpecifiedDemandProfile...\n",
      "\n",
      "Finished with table SpecifiedAnnualDemand...\n",
      "\n",
      "Finished with table ResidualStorageCapacity...\n",
      "\n",
      "Finished with table ResidualCapacity...\n",
      "\n",
      "Finished with table ReserveMarginTagTechnology...\n",
      "\n",
      "Finished with table ReserveMarginTagFuel...\n",
      "\n",
      "Finished with table ReserveMargin...\n",
      "\n",
      "Finished with table RETagTechnology...\n",
      "\n",
      "Finished with table RETagFuel...\n",
      "\n",
      "Finished with table REMinProductionTarget...\n",
      "\n",
      "Finished with table OutputActivityRatio...\n",
      "\n",
      "Finished with table OperationalLifeStorage...\n",
      "\n",
      "Finished with table OperationalLife...\n",
      "\n",
      "Finished with table ModelPeriodExogenousEmission...\n",
      "\n",
      "Finished with table ModelPeriodEmissionLimit...\n",
      "\n",
      "Finished with table MinStorageCharge...\n",
      "\n",
      "Finished with table LTsGroup...\n",
      "\n",
      "Finished with table sqlite_sequence...\n",
      "\n",
      "Finished with table InputActivityRatio...\n",
      "\n",
      "Finished with table FixedCost...\n",
      "\n",
      "Finished with table EmissionsPenalty...\n",
      "\n",
      "Finished with table EmissionActivityRatio...\n",
      "\n",
      "Finished with table DiscountRate...\n",
      "\n",
      "Finished with table DepreciationMethod...\n",
      "\n",
      "Finished with table CapitalCostStorage...\n",
      "\n",
      "Finished with table CapitalCost...\n",
      "\n",
      "Finished with table CapacityToActivityUnit...\n",
      "\n",
      "Finished with table CapacityOfOneTechnologyUnit...\n",
      "\n",
      "Finished with table CapacityFactor...\n",
      "\n",
      "Finished with table AvailabilityFactor...\n",
      "\n",
      "Finished with table AnnualExogenousEmission...\n",
      "\n",
      "Finished with table AnnualEmissionLimit...\n",
      "\n",
      "Finished with table AccumulatedAnnualDemand...\n",
      "\n",
      "Finished with table DefaultParams...\n",
      "\n",
      "Finished with table NODE...\n",
      "\n",
      "Finished with table TransmissionModelingEnabled...\n",
      "\n",
      "Finished with table NodalDistributionDemand...\n",
      "\n",
      "Finished with table NodalDistributionStorageCapacity...\n",
      "\n",
      "Finished with table NodalDistributionTechnologyCapacity...\n",
      "\n",
      "Finished with table StorageFullLoadHours...\n",
      "\n",
      "Finished with table Version...\n",
      "\n",
      "Finished with table STORAGE...\n",
      "\n",
      "Finished with table TransmissionCapacityToActivityUnit...\n",
      "\n",
      "Finished with table RampRate...\n",
      "\n",
      "Finished with table RampingReset...\n",
      "\n",
      "Finished with table MinimumUtilization...\n",
      "\n",
      "Finished with table InterestRateStorage...\n",
      "\n",
      "Finished with table InterestRateTechnology...\n",
      "\n",
      "Finished with table TransmissionLine...\n",
      "\n",
      "Finished with table vdemandnn...\n",
      "\n",
      "Finished with table vnewcapacity...\n",
      "\n",
      "Finished with table vtotalcapacityannual...\n",
      "\n",
      "Finished with table vproductionbytechnologyannual...\n",
      "\n",
      "Finished with table vproductionnn...\n",
      "\n",
      "Finished with table vusebytechnologyannual...\n",
      "\n",
      "Finished with table vusenn...\n",
      "\n",
      "Finished with table vtotaldiscountedcost...\n"
     ]
    }
   ],
   "source": [
    "#SQLite.columns(db, \"EMISSION\")\n",
    "\n",
    "dict_tables = Dict{String, DataFrame}()\n",
    "tables_vary = []\n",
    "\n",
    "for k in SQLite.tables(db)[1]\n",
    "    df_tmp = DBInterface.execute(db, \"select * from $(k)\") |> DataFrame\n",
    "    dict_tables[k] = df_tmp\n",
    "    \n",
    "    if nrow(df_tmp) > 0\n",
    "        push!(tables_vary, k)\n",
    "    end\n",
    "    \n",
    "    fp_out = joinpath(dir_out, \"$(k).csv\")\n",
    "    \n",
    "    if !ispath(fp_out)\n",
    "        CSV.write(fp_out, df_tmp)\n",
    "    end\n",
    "    \n",
    "    print(\"\\nFinished with table $(k)...\\n\")\n",
    "end;\n"
   ]
  },
  {
   "cell_type": "code",
   "execution_count": 49,
   "metadata": {},
   "outputs": [
    {
     "data": {
      "text/html": [
       "<table class=\"data-frame\"><thead><tr><th></th><th>val</th><th>desc</th></tr><tr><th></th><th>String</th><th>Missing</th></tr></thead><tbody><p>1 rows × 2 columns</p><tr><th>1</th><td>1</td><td><em>missing</em></td></tr></tbody></table>"
      ],
      "text/latex": [
       "\\begin{tabular}{r|cc}\n",
       "\t& val & desc\\\\\n",
       "\t\\hline\n",
       "\t& String & Missing\\\\\n",
       "\t\\hline\n",
       "\t1 & 1 & \\emph{missing} \\\\\n",
       "\\end{tabular}\n"
      ],
      "text/plain": [
       "\u001b[1m1×2 DataFrame\u001b[0m\n",
       "\u001b[1m Row \u001b[0m│\u001b[1m val    \u001b[0m\u001b[1m desc    \u001b[0m\n",
       "\u001b[1m     \u001b[0m│\u001b[90m String \u001b[0m\u001b[90m Missing \u001b[0m\n",
       "─────┼─────────────────\n",
       "   1 │ 1      \u001b[90m missing \u001b[0m"
      ]
     },
     "execution_count": 49,
     "metadata": {},
     "output_type": "execute_result"
    }
   ],
   "source": [
    "DBInterface.execute(db, \"select * from REGION\") |> DataFrame"
   ]
  },
  {
   "cell_type": "code",
   "execution_count": 33,
   "metadata": {},
   "outputs": [
    {
     "data": {
      "text/plain": [
       "8-element Array{String,1}:\n",
       " \"vusenn\"\n",
       " \"vdemandnn\"\n",
       " \"vproductionnn\"\n",
       " \"vtotaldiscountedcost\"\n",
       " \"vusebytechnologyannual\"\n",
       " \"vproductionbytechnologyannual\"\n",
       " \"vnewcapacity\"\n",
       " \"vtotalcapacityannual\""
      ]
     },
     "execution_count": 33,
     "metadata": {},
     "output_type": "execute_result"
    }
   ],
   "source": [
    "[x for x in keys(dict_tables) if \"$(x[1])\" == \"v\"]"
   ]
  },
  {
   "cell_type": "code",
   "execution_count": 32,
   "metadata": {},
   "outputs": [
    {
     "name": "stdout",
     "output_type": "stream",
     "text": [
      "\n",
      "AccumulatedAnnualDemand\n",
      "AnnualEmissionLimit\n",
      "AnnualExogenousEmission\n",
      "AvailabilityFactor\n",
      "CapacityFactor\n",
      "CapacityOfOneTechnologyUnit\n",
      "CapacityToActivityUnit\n",
      "CapitalCost\n",
      "CapitalCostStorage\n",
      "DefaultParams\n",
      "DepreciationMethod\n",
      "DiscountRate\n",
      "EMISSION\n",
      "EmissionActivityRatio\n",
      "EmissionsPenalty\n",
      "FUEL\n",
      "FixedCost\n",
      "InputActivityRatio\n",
      "InterestRateStorage\n",
      "InterestRateTechnology\n",
      "LTsGroup\n",
      "MODE_OF_OPERATION\n",
      "MinStorageCharge\n",
      "MinimumUtilization\n",
      "ModelPeriodEmissionLimit\n",
      "ModelPeriodExogenousEmission\n",
      "NODE\n",
      "NodalDistributionDemand\n",
      "NodalDistributionStorageCapacity\n",
      "NodalDistributionTechnologyCapacity\n",
      "OperationalLife\n",
      "OperationalLifeStorage\n",
      "OutputActivityRatio\n",
      "REGION\n",
      "REMinProductionTarget\n",
      "RETagFuel\n",
      "RETagTechnology\n",
      "RampRate\n",
      "RampingReset\n",
      "ReserveMargin\n",
      "ReserveMarginTagFuel\n",
      "ReserveMarginTagTechnology\n",
      "ResidualCapacity\n",
      "ResidualStorageCapacity\n",
      "STORAGE\n",
      "SpecifiedAnnualDemand\n",
      "SpecifiedDemandProfile\n",
      "StorageFullLoadHours\n",
      "StorageLevelStart\n",
      "StorageMaxChargeRate\n",
      "StorageMaxDischargeRate\n",
      "TECHNOLOGY\n",
      "TIMESLICE\n",
      "TSGROUP1\n",
      "TSGROUP2\n",
      "TechnologyFromStorage\n",
      "TechnologyToStorage\n",
      "TotalAnnualMaxCapacity\n",
      "TotalAnnualMaxCapacityInvestment\n",
      "TotalAnnualMaxCapacityInvestmentStorage\n",
      "TotalAnnualMaxCapacityStorage\n",
      "TotalAnnualMinCapacity\n",
      "TotalAnnualMinCapacityInvestment\n",
      "TotalAnnualMinCapacityInvestmentStorage\n",
      "TotalAnnualMinCapacityStorage\n",
      "TotalTechnologyAnnualActivityLowerLimit\n",
      "TotalTechnologyAnnualActivityUpperLimit\n",
      "TotalTechnologyModelPeriodActivityLowerLimit\n",
      "TotalTechnologyModelPeriodActivityUpperLimit\n",
      "TradeRoute\n",
      "TransmissionCapacityToActivityUnit\n",
      "TransmissionLine\n",
      "TransmissionModelingEnabled\n",
      "VariableCost\n",
      "Version\n",
      "YEAR\n",
      "YearSplit\n",
      "sqlite_sequence\n",
      "vdemandnn\n",
      "vnewcapacity\n",
      "vproductionbytechnologyannual\n",
      "vproductionnn\n",
      "vtotalcapacityannual\n",
      "vtotaldiscountedcost\n",
      "vusebytechnologyannual\n",
      "vusenn"
     ]
    }
   ],
   "source": [
    "for k in sort(collect(keys(dict_tables)))\n",
    "    print(\"\\n$(k)\")\n",
    "end"
   ]
  },
  {
   "cell_type": "code",
   "execution_count": null,
   "metadata": {},
   "outputs": [],
   "source": []
  }
 ],
 "metadata": {
  "kernelspec": {
   "display_name": "Julia 1.5.3",
   "language": "julia",
   "name": "julia-1.5"
  },
  "language_info": {
   "file_extension": ".jl",
   "mimetype": "application/julia",
   "name": "julia",
   "version": "1.5.3"
  }
 },
 "nbformat": 4,
 "nbformat_minor": 4
}
