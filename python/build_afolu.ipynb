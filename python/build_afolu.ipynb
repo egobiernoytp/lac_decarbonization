{
 "cells": [
  {
   "cell_type": "code",
   "execution_count": 39,
   "metadata": {},
   "outputs": [
    {
     "data": {
      "text/plain": [
       "<module 'support_functions' from '/Users/jsyme/Documents/Projects/git_jbus/lac_decarbonization/python/support_functions.py'>"
      ]
     },
     "execution_count": 39,
     "metadata": {},
     "output_type": "execute_result"
    }
   ],
   "source": [
    "import os, os.path\n",
    "import numpy as np\n",
    "import pandas as pd\n",
    "import setup_analysis as sa\n",
    "import support_functions as sf\n",
    "import importlib\n",
    "importlib.reload(sa)\n",
    "\n",
    "importlib.reload(sf)\n"
   ]
  },
  {
   "cell_type": "code",
   "execution_count": null,
   "metadata": {},
   "outputs": [],
   "source": []
  },
  {
   "cell_type": "code",
   "execution_count": 110,
   "metadata": {},
   "outputs": [],
   "source": [
    "class AFOLU:\n",
    "    \n",
    "    def __init__(self, attributes):\n",
    "        \n",
    "        self.model_attributes = attributes\n",
    "        self.required_subsectors = self.get_required_subsectors()\n",
    "        self.required_variables = self.get_required_variables()\n",
    "        \n",
    "        # specify basic field values\n",
    "        self.field_gdp = self.model_attributes.build_varlist(\"Economy\", \"Gross Domestic Product\")[0]\n",
    "        self.field_pop_total = \"population_total\"\n",
    "        \n",
    "        ##  get lists of fields \n",
    "        \n",
    "        # SE\n",
    "        self.fields_pop = self.model_attributes.build_varlist(\"General\", \"Population\")\n",
    "        self.fields_va = self.model_attributes.build_varlist(\"Economy\", \"Value Added\")\n",
    "        # LVST\n",
    "        self.fields_lvst_elasticities = self.model_attributes.build_varlist(\"Livestock\", \"Elasticity of Livestock Demand to GDP per Capita\")\n",
    "        \n",
    "        \n",
    "    \n",
    "    def get_required_subsectors(self):\n",
    "        subsectors = list(sf.subset_df(sa.model_attributes.dict_attributes[\"abbreviation_subsector\"].table, {\"sector\": [\"AFOLU\"]})[\"subsector\"])\n",
    "        subsectors += [\"Economy\", \"General\"]\n",
    "        return subsectors\n",
    "        \n",
    "    def get_required_variables(self, build_df_q = False):\n",
    "        vars_out = []\n",
    "        subsectors_out = []\n",
    "        \n",
    "        for subsector in self.required_subsectors:\n",
    "            vars_subsector = self.model_attributes.build_varlist(subsector)\n",
    "            vars_out += vars_subsector\n",
    "            if build_df_q:\n",
    "                subsectors_out += [subsector for x in vars_subsector]\n",
    "        if build_df_q:\n",
    "            vars_out = pd.DataFrame({\"subsector\": subsectors_out, \"variable\": vars_out}).sort_values(by = [\"subsector\", \"variable\"]).reset_index(drop = True)\n",
    "            \n",
    "        return vars_out\n",
    "    \n",
    "    def check_df_fields(self, df_afolu_trajectories):\n",
    "        # check for required variables\n",
    "        if not set(self.required_variables).issubset(df_afolu_trajectories.columns):\n",
    "            set_missing = list(set(self.required_variables) - set(df_afolu_trajectories.columns))\n",
    "            set_missing = sf.format_print_list(set_missing)\n",
    "            print(set_missing)\n",
    "            print(\"HERE!\")\n",
    "            raise KeyError(f\"AFOLU projection cannot proceed: The fields {set_missing} are missing.\")\n",
    "            \n",
    "            \n",
    "    def project(self, df_afolu_trajectories):\n",
    "        \n",
    "        \n",
    "        self.check_df_fields(df_afolu_trajectories)\n",
    "        \n",
    "        \n",
    "        \n",
    "        \n",
    "        # add to data frame\n",
    "        df_afolu_trajectories[field_pop_total] = df_afolu_trajectories[sa.model_attributes.build_varlist(\"General\", \"Population\")].sum(axis = 1).astype(int)\n",
    "        \n",
    "        # calculate some vectors\n",
    "        gdp_per_capita = np.array(df_afolu_trajectories[field_gdp])/np.array(df_afolu_trajectories[field_pop_total])\n",
    "        gdp_per_capita_rates = gdp_per_capita[1:]/gdp_per_capita[0:-1] - 1\n",
    "        \n",
    "        \n",
    "        \n",
    "        \n",
    "        \n",
    "        print(gdp_per_capita_rates)\n",
    "    \n",
    "        "
   ]
  },
  {
   "cell_type": "code",
   "execution_count": 115,
   "metadata": {},
   "outputs": [
    {
     "name": "stdout",
     "output_type": "stream",
     "text": [
      "[0.03171666 0.02630725 0.01726744 0.01966599 0.0189801  0.02132296\n",
      " 0.0226857  0.02521598 0.02753739 0.02787171 0.02819933 0.02852765\n",
      " 0.02885411 0.02917832 0.029501   0.02982061 0.03013063 0.03043763\n",
      " 0.03072904 0.03101421 0.03129478 0.03157127 0.03184636 0.03211655\n",
      " 0.03238272 0.03264754 0.03290862 0.03317058 0.03343909 0.03370869\n",
      " 0.03397503 0.034239   0.03449933 0.03475635 0.0350111 ]\n"
     ]
    },
    {
     "data": {
      "text/plain": [
       "['elasticity_cattle_dairy_demand_to_gdppc',\n",
       " 'elasticity_cattle_nondairy_demand_to_gdppc',\n",
       " 'elasticity_sheep_demand_to_gdppc',\n",
       " 'elasticity_chickens_demand_to_gdppc',\n",
       " 'elasticity_pigs_demand_to_gdppc']"
      ]
     },
     "execution_count": 115,
     "metadata": {},
     "output_type": "execute_result"
    }
   ],
   "source": [
    "importlib.reload(sa)\n",
    "model_afolu = AFOLU(sa.model_attributes)\n",
    "model_afolu.get_required_variables(True).to_csv(os.path.join(sa.dir_out, \"tmp_vars_for_afolu2.csv\"), encoding = \"UTF-8\", index = None)\n",
    "\n",
    "if False:\n",
    "    df_fake_data = pd.read_csv(os.path.join(sa.dir_out, \"fake_data_afolu.csv\"))\n",
    "    df_fake_data[sa.model_attributes.build_varlist(\"Economy\", \"Gross Domestic Product\")[0]] = df_fake_data[sa.model_attributes.build_varlist(\"Economy\", \"Value Added\")].sum(axis = 1)\n",
    "\n",
    "model_afolu.project(df_fake_data)\n",
    "sa.model_attributes.build_varlist(\"Livestock\", \"Elasticity of Livestock Demand to GDP per Capita\")"
   ]
  },
  {
   "cell_type": "code",
   "execution_count": 100,
   "metadata": {},
   "outputs": [],
   "source": [
    "df_fake_data = pd.read_csv(os.path.join(sa.dir_out, \"fake_data_afolu.csv\"))\n",
    "# add some vars\n",
    "df_fake_data[sa.model_attributes.build_varlist(\"Economy\", \"Gross Domestic Product\")[0]] = df_fake_data[sa.model_attributes.build_varlist(\"Economy\", \"Value Added\")].sum(axis = 1)\n",
    "df_fake_data[\"population_total\"] = df_fake_data[sa.model_attributes.build_varlist(\"General\", \"Population\")].sum(axis = 1).astype(int)"
   ]
  },
  {
   "cell_type": "code",
   "execution_count": 102,
   "metadata": {},
   "outputs": [
    {
     "name": "stdout",
     "output_type": "stream",
     "text": [
      "gdp_mmm_usd\n"
     ]
    }
   ],
   "source": [
    "model_afolu.project(df_fake_data)"
   ]
  },
  {
   "cell_type": "code",
   "execution_count": 87,
   "metadata": {},
   "outputs": [
    {
     "data": {
      "text/plain": [
       "['va_agliv_mmm_usd',\n",
       " 'va_commercial_mmm_usd',\n",
       " 'va_industrial_mmm_usd',\n",
       " 'va_manufacturing_mmm_usd',\n",
       " 'va_mining_mmm_usd']"
      ]
     },
     "execution_count": 87,
     "metadata": {},
     "output_type": "execute_result"
    }
   ],
   "source": []
  },
  {
   "cell_type": "code",
   "execution_count": 66,
   "metadata": {},
   "outputs": [
    {
     "data": {
      "text/plain": [
       "['ef_forestfires_mangroves_gg_co2_ha',\n",
       " 'ef_forestfires_primary_gg_co2_ha',\n",
       " 'ef_forestfires_secondary_gg_co2_ha',\n",
       " 'ef_forestmethane_mangroves_gg_ch4_ha',\n",
       " 'ef_forestmethane_primary_gg_ch4_ha',\n",
       " 'ef_forestmethane_secondary_gg_ch4_ha',\n",
       " 'ef_luconversion_croplands_to_forests_mangroves_gg_co2_ha',\n",
       " 'ef_luconversion_croplands_to_forests_primary_gg_co2_ha',\n",
       " 'ef_luconversion_croplands_to_forests_secondary_gg_co2_ha',\n",
       " 'ef_luconversion_forests_mangroves_to_croplands_gg_co2_ha',\n",
       " 'ef_luconversion_forests_mangroves_to_forests_mangroves_gg_co2_ha',\n",
       " 'ef_luconversion_forests_mangroves_to_forests_primary_gg_co2_ha',\n",
       " 'ef_luconversion_forests_mangroves_to_forests_secondary_gg_co2_ha',\n",
       " 'ef_luconversion_forests_mangroves_to_grasslands_gg_co2_ha',\n",
       " 'ef_luconversion_forests_mangroves_to_other_gg_co2_ha',\n",
       " 'ef_luconversion_forests_mangroves_to_settlements_gg_co2_ha',\n",
       " 'ef_luconversion_forests_mangroves_to_wetlands_gg_co2_ha',\n",
       " 'ef_luconversion_forests_primary_to_croplands_gg_co2_ha',\n",
       " 'ef_luconversion_forests_primary_to_forests_mangroves_gg_co2_ha',\n",
       " 'ef_luconversion_forests_primary_to_forests_primary_gg_co2_ha',\n",
       " 'ef_luconversion_forests_primary_to_forests_secondary_gg_co2_ha',\n",
       " 'ef_luconversion_forests_primary_to_grasslands_gg_co2_ha',\n",
       " 'ef_luconversion_forests_primary_to_other_gg_co2_ha',\n",
       " 'ef_luconversion_forests_primary_to_settlements_gg_co2_ha',\n",
       " 'ef_luconversion_forests_primary_to_wetlands_gg_co2_ha',\n",
       " 'ef_luconversion_forests_secondary_to_croplands_gg_co2_ha',\n",
       " 'ef_luconversion_forests_secondary_to_forests_mangroves_gg_co2_ha',\n",
       " 'ef_luconversion_forests_secondary_to_forests_primary_gg_co2_ha',\n",
       " 'ef_luconversion_forests_secondary_to_forests_secondary_gg_co2_ha',\n",
       " 'ef_luconversion_forests_secondary_to_grasslands_gg_co2_ha',\n",
       " 'ef_luconversion_forests_secondary_to_other_gg_co2_ha',\n",
       " 'ef_luconversion_forests_secondary_to_settlements_gg_co2_ha',\n",
       " 'ef_luconversion_forests_secondary_to_wetlands_gg_co2_ha',\n",
       " 'ef_luconversion_grasslands_to_forests_mangroves_gg_co2_ha',\n",
       " 'ef_luconversion_grasslands_to_forests_primary_gg_co2_ha',\n",
       " 'ef_luconversion_grasslands_to_forests_secondary_gg_co2_ha',\n",
       " 'ef_luconversion_other_to_forests_mangroves_gg_co2_ha',\n",
       " 'ef_luconversion_other_to_forests_primary_gg_co2_ha',\n",
       " 'ef_luconversion_other_to_forests_secondary_gg_co2_ha',\n",
       " 'ef_luconversion_settlements_to_forests_mangroves_gg_co2_ha',\n",
       " 'ef_luconversion_settlements_to_forests_primary_gg_co2_ha',\n",
       " 'ef_luconversion_settlements_to_forests_secondary_gg_co2_ha',\n",
       " 'ef_luconversion_wetlands_to_forests_mangroves_gg_co2_ha',\n",
       " 'ef_luconversion_wetlands_to_forests_primary_gg_co2_ha',\n",
       " 'ef_luconversion_wetlands_to_forests_secondary_gg_co2_ha',\n",
       " 'frac_lu_initial_forests_mangroves',\n",
       " 'frac_lu_initial_forests_primary',\n",
       " 'frac_lu_initial_forests_secondary',\n",
       " 'pij_croplands_to_forests_mangroves',\n",
       " 'pij_croplands_to_forests_primary',\n",
       " 'pij_croplands_to_forests_secondary',\n",
       " 'pij_forests_mangroves_to_croplands',\n",
       " 'pij_forests_mangroves_to_forests_mangroves',\n",
       " 'pij_forests_mangroves_to_forests_primary',\n",
       " 'pij_forests_mangroves_to_forests_secondary',\n",
       " 'pij_forests_mangroves_to_grasslands',\n",
       " 'pij_forests_mangroves_to_other',\n",
       " 'pij_forests_mangroves_to_settlements',\n",
       " 'pij_forests_mangroves_to_wetlands',\n",
       " 'pij_forests_primary_to_croplands',\n",
       " 'pij_forests_primary_to_forests_mangroves',\n",
       " 'pij_forests_primary_to_forests_primary',\n",
       " 'pij_forests_primary_to_forests_secondary',\n",
       " 'pij_forests_primary_to_grasslands',\n",
       " 'pij_forests_primary_to_other',\n",
       " 'pij_forests_primary_to_settlements',\n",
       " 'pij_forests_primary_to_wetlands',\n",
       " 'pij_forests_secondary_to_croplands',\n",
       " 'pij_forests_secondary_to_forests_mangroves',\n",
       " 'pij_forests_secondary_to_forests_primary',\n",
       " 'pij_forests_secondary_to_forests_secondary',\n",
       " 'pij_forests_secondary_to_grasslands',\n",
       " 'pij_forests_secondary_to_other',\n",
       " 'pij_forests_secondary_to_settlements',\n",
       " 'pij_forests_secondary_to_wetlands',\n",
       " 'pij_grasslands_to_forests_mangroves',\n",
       " 'pij_grasslands_to_forests_primary',\n",
       " 'pij_grasslands_to_forests_secondary',\n",
       " 'pij_other_to_forests_mangroves',\n",
       " 'pij_other_to_forests_primary',\n",
       " 'pij_other_to_forests_secondary',\n",
       " 'pij_settlements_to_forests_mangroves',\n",
       " 'pij_settlements_to_forests_primary',\n",
       " 'pij_settlements_to_forests_secondary',\n",
       " 'pij_wetlands_to_forests_mangroves',\n",
       " 'pij_wetlands_to_forests_primary',\n",
       " 'pij_wetlands_to_forests_secondary']"
      ]
     },
     "execution_count": 66,
     "metadata": {},
     "output_type": "execute_result"
    }
   ],
   "source": [
    "sa.model_attributes.build_varlist(\"Land Use\", \":math:\\\\text{CO}_2 Land Use Conversion Emission Factor\")\n",
    "#sa.model_attributes.dict_varreqs[\"category_af_lndu\"].table[\"variable\"].iloc[2]\n",
    "[x for x in df_fake_data.columns if \"forest\" in x]"
   ]
  },
  {
   "cell_type": "code",
   "execution_count": 21,
   "metadata": {},
   "outputs": [
    {
     "ename": "UnboundLocalError",
     "evalue": "local variable 'dict_vr_vtf' referenced before assignment",
     "output_type": "error",
     "traceback": [
      "\u001b[0;31m---------------------------------------------------------------------------\u001b[0m",
      "\u001b[0;31mUnboundLocalError\u001b[0m                         Traceback (most recent call last)",
      "\u001b[0;32m<ipython-input-21-5e983470acef>\u001b[0m in \u001b[0;36m<module>\u001b[0;34m\u001b[0m\n\u001b[0;32m----> 1\u001b[0;31m \u001b[0msa\u001b[0m\u001b[0;34m.\u001b[0m\u001b[0mmodel_attributes\u001b[0m\u001b[0;34m.\u001b[0m\u001b[0mseparate_varreq_dict_for_outer\u001b[0m\u001b[0;34m(\u001b[0m\u001b[0;34m\"Agriculture\"\u001b[0m\u001b[0;34m,\u001b[0m \u001b[0;34m\"key_varreqs_partial\"\u001b[0m\u001b[0;34m,\u001b[0m \u001b[0;34m(\u001b[0m\u001b[0;34m\"$CAT-AGRICULTURE-I$\"\u001b[0m\u001b[0;34m,\u001b[0m \u001b[0;34m\"$CAT-AGRICULTURE-J$\"\u001b[0m\u001b[0;34m)\u001b[0m\u001b[0;34m)\u001b[0m\u001b[0;34m\u001b[0m\u001b[0;34m\u001b[0m\u001b[0m\n\u001b[0m",
      "\u001b[0;32m~/Documents/Projects/git_jbus/lac_decarbonization/python/data_structures.py\u001b[0m in \u001b[0;36mseparate_varreq_dict_for_outer\u001b[0;34m(self, subsector, key_type, category_outer_tuple, target_field, field_to_split_on)\u001b[0m\n\u001b[1;32m    276\u001b[0m             \u001b[0mdict_vr_vvs_outer\u001b[0m \u001b[0;34m=\u001b[0m \u001b[0;34m{\u001b[0m\u001b[0;34m}\u001b[0m\u001b[0;34m\u001b[0m\u001b[0;34m\u001b[0m\u001b[0m\n\u001b[1;32m    277\u001b[0m \u001b[0;34m\u001b[0m\u001b[0m\n\u001b[0;32m--> 278\u001b[0;31m         \u001b[0;32mreturn\u001b[0m \u001b[0mdict_vr_vtf\u001b[0m\u001b[0;34m,\u001b[0m \u001b[0mdict_vr_vtf_outer\u001b[0m\u001b[0;34m\u001b[0m\u001b[0;34m\u001b[0m\u001b[0m\n\u001b[0m\u001b[1;32m    279\u001b[0m \u001b[0;34m\u001b[0m\u001b[0m\n\u001b[1;32m    280\u001b[0m     \u001b[0;31m# clean a partial category dictionary to return either none (no categorization) or a list of applicable cateogries\u001b[0m\u001b[0;34m\u001b[0m\u001b[0;34m\u001b[0m\u001b[0;34m\u001b[0m\u001b[0m\n",
      "\u001b[0;31mUnboundLocalError\u001b[0m: local variable 'dict_vr_vtf' referenced before assignment"
     ]
    }
   ],
   "source": [
    "sa.model_attributes.\n",
    "\n"
   ]
  },
  {
   "cell_type": "code",
   "execution_count": null,
   "metadata": {},
   "outputs": [],
   "source": [
    "#\n",
    "#\n",
    "#\n"
   ]
  },
  {
   "cell_type": "code",
   "execution_count": null,
   "metadata": {},
   "outputs": [],
   "source": []
  },
  {
   "cell_type": "code",
   "execution_count": null,
   "metadata": {},
   "outputs": [],
   "source": []
  },
  {
   "cell_type": "code",
   "execution_count": null,
   "metadata": {},
   "outputs": [],
   "source": []
  }
 ],
 "metadata": {
  "kernelspec": {
   "display_name": "Python 3",
   "language": "python",
   "name": "python3"
  },
  "language_info": {
   "codemirror_mode": {
    "name": "ipython",
    "version": 3
   },
   "file_extension": ".py",
   "mimetype": "text/x-python",
   "name": "python",
   "nbconvert_exporter": "python",
   "pygments_lexer": "ipython3",
   "version": "3.8.5"
  }
 },
 "nbformat": 4,
 "nbformat_minor": 4
}
