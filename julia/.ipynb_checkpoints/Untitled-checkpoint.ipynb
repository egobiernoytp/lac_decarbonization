{
 "cells": [
  {
   "cell_type": "code",
   "execution_count": 1,
   "metadata": {},
   "outputs": [],
   "source": [
    "using CSV\n",
    "using DataFrames\n",
    "using SparseArrays\n",
    "using LinearAlgebra\n"
   ]
  },
  {
   "cell_type": "code",
   "execution_count": 2,
   "metadata": {},
   "outputs": [
    {
     "data": {
      "text/plain": [
       "sort_row_ids (generic function with 1 method)"
      ]
     },
     "execution_count": 2,
     "metadata": {},
     "output_type": "execute_result"
    }
   ],
   "source": [
    "include(\"setup_analysis.jl\")\n",
    "include(\"support_functions.jl\")"
   ]
  },
  {
   "cell_type": "code",
   "execution_count": 230,
   "metadata": {},
   "outputs": [
    {
     "data": {
      "text/plain": [
       "8×8 Array{Float64,2}:\n",
       " -0.000972564   0.202047   0.00973291  …   0.0203642   -0.987839\n",
       "  0.00365981   -0.242804  -0.00318894     -0.00310543   0.0179501\n",
       " -0.0222582     0.916529   0.00467596      0.0237233   -0.0129269\n",
       "  0.00410569   -0.164064  -0.149907        0.9903       0.0404586\n",
       "  0.153711     -0.826469   0.939215        0.0747916   -0.00290748\n",
       " -0.32568       0.680507   0.0654902   …   0.0149629    0.00633768\n",
       " -0.843384      0.117956   0.0108012       0.00198644   0.00685947\n",
       " -0.278558     -0.883565  -0.047238       -0.0191253   -0.0273403"
      ]
     },
     "execution_count": 230,
     "metadata": {},
     "output_type": "execute_result"
    }
   ],
   "source": [
    "mc = read_csv(\"/Users/jsyme/Desktop/testmc2.csv\", true);\n",
    "cats = names(mc);\n",
    "Q = coalesce.(Matrix(mc), 0)\n",
    "\n",
    "# collect eigendecomposition \n",
    "eq = eigen(Q)\n",
    "lambdas = collect(eq.values)\n",
    "aa = eq.vectors\n",
    "aa_inv = inv(aa)\n"
   ]
  },
  {
   "cell_type": "code",
   "execution_count": 231,
   "metadata": {},
   "outputs": [
    {
     "data": {
      "text/plain": [
       "8×8 Array{Float64,2}:\n",
       "  0.996828      1.16003e-16  -2.85553e-16  …  6.65084e-5   0.000170393\n",
       "  0.001         0.97748      -8.64822e-17     0.000302341  0.00113938\n",
       " -4.58387e-16  -2.42798e-16   0.991211        0.00316266   0.00145099\n",
       "  9.11086e-17   0.0251207     0.000360376     0.000318832  0.00527642\n",
       "  1.30785e-16   0.0178293     0.000223313     0.000285024  0.00264511\n",
       "  2.02716e-16   0.000608358   2.01656e-5   …  2.72725e-5   0.00173922\n",
       "  8.38575e-17   0.0158265     0.00529834      0.957457     0.00966496\n",
       " -6.37923e-16   0.051093      0.00226573      0.00374516   0.791951"
      ]
     },
     "execution_count": 231,
     "metadata": {},
     "output_type": "execute_result"
    }
   ],
   "source": [
    "x = 1#0.00\n",
    "ss = real(aa*diagm(lambdas .* [x, x, x, x, x, x, x, 1])*aa_inv)"
   ]
  },
  {
   "cell_type": "code",
   "execution_count": 232,
   "metadata": {},
   "outputs": [
    {
     "data": {
      "text/plain": [
       "8-element Array{Float64,1}:\n",
       " 0.09848510212839527\n",
       " 0.3123874876043277\n",
       " 0.016701156328445033\n",
       " 0.11615882804766073\n",
       " 0.18863585644845235\n",
       " 0.2512034967522755\n",
       " 0.006761817413165317\n",
       " 0.0096662552772781"
      ]
     },
     "execution_count": 232,
     "metadata": {},
     "output_type": "execute_result"
    }
   ],
   "source": [
    "round.(real(aa[:, end].*aa_inv[end,:]); digits = 4)\n",
    "# stationary distribution is associated with eigenvalues = 1 (if multiplicity of lambda = 1 > 1, then there are multiple stationary distributions, but this only occurs with multiple communicating classes)\n",
    "stat = aa[:, end].*aa_inv[end,:]\n"
   ]
  },
  {
   "cell_type": "code",
   "execution_count": 247,
   "metadata": {},
   "outputs": [
    {
     "data": {
      "text/plain": [
       "8-element Array{Float64,1}:\n",
       " 0.4268390108532125\n",
       " 0.18023634426311888\n",
       " 0.009200053737912817\n",
       " 0.12066930365305001\n",
       " 0.2349208237488758\n",
       " 0.0156414245469453\n",
       " 0.0049081994414949\n",
       " 0.0075848397553899445"
      ]
     },
     "execution_count": 247,
     "metadata": {},
     "output_type": "execute_result"
    }
   ],
   "source": [
    "Q#^36\n",
    "a = 5110000\n",
    "\"frac_lu_initial_croplands            0.117665\n",
    "frac_lu_initial_forests_mangroves    0.008971\n",
    "frac_lu_initial_forests_primary      0.416212\n",
    "frac_lu_initial_forests_secondary    0.175749\n",
    "frac_lu_initial_grasslands           0.229072\n",
    "frac_lu_initial_other                0.007396\n",
    "frac_lu_initial_settlements          0.015252\n",
    "frac_lu_initial_wetlands             0.004786\"\n",
    "\n",
    "\n",
    "x = [0.416212, 0.175749, 0.008971, 0.117665, 0.229072, 0.015252, 0.004786, 0.007396]\n",
    "x = x/sum(x)\n"
   ]
  },
  {
   "cell_type": "code",
   "execution_count": null,
   "metadata": {},
   "outputs": [],
   "source": []
  },
  {
   "cell_type": "code",
   "execution_count": 240,
   "metadata": {},
   "outputs": [
    {
     "data": {
      "text/plain": [
       "1×8 Transpose{Float64,Array{Float64,1}}:\n",
       " 0.364236  0.245265  0.0636545  0.114989  …  0.0377227  0.0111817  0.00789202"
      ]
     },
     "execution_count": 240,
     "metadata": {},
     "output_type": "execute_result"
    }
   ],
   "source": [
    "ab = Q^200\n",
    "ab^200\n",
    "aa\n",
    "\n",
    "x = [0.4, 0.17, 0.08, 0.3, 0.015, 0.005, 0.015, 0.015]\n",
    "transpose(x)*Q^36\n"
   ]
  },
  {
   "cell_type": "code",
   "execution_count": 265,
   "metadata": {},
   "outputs": [
    {
     "data": {
      "text/html": [
       "<table class=\"data-frame\"><thead><tr><th></th><th>primary</th><th>secondary</th><th>mangroves</th><th>cropland</th><th>Grassland</th><th>Settlements</th><th>Wetlands</th></tr><tr><th></th><th>Float64</th><th>Float64</th><th>Float64</th><th>Float64</th><th>Float64</th><th>Float64</th><th>Float64</th></tr></thead><tbody><p>8 rows × 8 columns (omitted printing of 1 columns)</p><tr><th>1</th><td>0.996828</td><td>0.0</td><td>0.0</td><td>0.000708574</td><td>0.00217736</td><td>4.90915e-5</td><td>6.65084e-5</td></tr><tr><th>2</th><td>0.001</td><td>0.97748</td><td>0.0</td><td>0.00768463</td><td>0.012241</td><td>0.000152634</td><td>0.000302341</td></tr><tr><th>3</th><td>0.0</td><td>0.0</td><td>0.991211</td><td>0.0021511</td><td>0.00198232</td><td>4.14849e-5</td><td>0.00316265</td></tr><tr><th>4</th><td>0.0</td><td>0.0251207</td><td>0.000360376</td><td>0.944196</td><td>0.0222687</td><td>0.00245942</td><td>0.000318832</td></tr><tr><th>5</th><td>0.0</td><td>0.0178293</td><td>0.000223313</td><td>0.0177915</td><td>0.959729</td><td>0.00149699</td><td>0.000285024</td></tr><tr><th>6</th><td>0.0</td><td>0.000608358</td><td>2.01656e-5</td><td>0.000725601</td><td>0.000767423</td><td>0.996112</td><td>2.72725e-5</td></tr><tr><th>7</th><td>0.0</td><td>0.0158265</td><td>0.00529834</td><td>0.00574841</td><td>0.00583792</td><td>0.000167361</td><td>0.957457</td></tr><tr><th>8</th><td>0.0</td><td>0.051093</td><td>0.00226573</td><td>0.0412386</td><td>0.0730558</td><td>0.0366511</td><td>0.00374516</td></tr></tbody></table>"
      ],
      "text/latex": [
       "\\begin{tabular}{r|cccccccc}\n",
       "\t& primary & secondary & mangroves & cropland & Grassland & Settlements & Wetlands & \\\\\n",
       "\t\\hline\n",
       "\t& Float64 & Float64 & Float64 & Float64 & Float64 & Float64 & Float64 & \\\\\n",
       "\t\\hline\n",
       "\t1 & 0.996828 & 0.0 & 0.0 & 0.000708574 & 0.00217736 & 4.90915e-5 & 6.65084e-5 & $\\dots$ \\\\\n",
       "\t2 & 0.001 & 0.97748 & 0.0 & 0.00768463 & 0.012241 & 0.000152634 & 0.000302341 & $\\dots$ \\\\\n",
       "\t3 & 0.0 & 0.0 & 0.991211 & 0.0021511 & 0.00198232 & 4.14849e-5 & 0.00316265 & $\\dots$ \\\\\n",
       "\t4 & 0.0 & 0.0251207 & 0.000360376 & 0.944196 & 0.0222687 & 0.00245942 & 0.000318832 & $\\dots$ \\\\\n",
       "\t5 & 0.0 & 0.0178293 & 0.000223313 & 0.0177915 & 0.959729 & 0.00149699 & 0.000285024 & $\\dots$ \\\\\n",
       "\t6 & 0.0 & 0.000608358 & 2.01656e-5 & 0.000725601 & 0.000767423 & 0.996112 & 2.72725e-5 & $\\dots$ \\\\\n",
       "\t7 & 0.0 & 0.0158265 & 0.00529834 & 0.00574841 & 0.00583792 & 0.000167361 & 0.957457 & $\\dots$ \\\\\n",
       "\t8 & 0.0 & 0.051093 & 0.00226573 & 0.0412386 & 0.0730558 & 0.0366511 & 0.00374516 & $\\dots$ \\\\\n",
       "\\end{tabular}\n"
      ],
      "text/plain": [
       "\u001b[1m8×8 DataFrame\u001b[0m\n",
       "\u001b[1m Row \u001b[0m│\u001b[1m primary  \u001b[0m\u001b[1m secondary   \u001b[0m\u001b[1m mangroves   \u001b[0m\u001b[1m cropland    \u001b[0m\u001b[1m Grassland   \u001b[0m\u001b[1m Settlemen\u001b[0m ⋯\n",
       "\u001b[1m     \u001b[0m│\u001b[90m Float64  \u001b[0m\u001b[90m Float64     \u001b[0m\u001b[90m Float64     \u001b[0m\u001b[90m Float64     \u001b[0m\u001b[90m Float64     \u001b[0m\u001b[90m Float64  \u001b[0m ⋯\n",
       "─────┼──────────────────────────────────────────────────────────────────────────\n",
       "   1 │ 0.996828  0.0          0.0          0.000708574  0.00217736   4.90915e- ⋯\n",
       "   2 │ 0.001     0.97748      0.0          0.00768463   0.012241     0.0001526\n",
       "   3 │ 0.0       0.0          0.991211     0.0021511    0.00198232   4.14849e-\n",
       "   4 │ 0.0       0.0251207    0.000360376  0.944196     0.0222687    0.0024594\n",
       "   5 │ 0.0       0.0178293    0.000223313  0.0177915    0.959729     0.0014969 ⋯\n",
       "   6 │ 0.0       0.000608358  2.01656e-5   0.000725601  0.000767423  0.996112\n",
       "   7 │ 0.0       0.0158265    0.00529834   0.00574841   0.00583792   0.0001673\n",
       "   8 │ 0.0       0.051093     0.00226573   0.0412386    0.0730558    0.0366511\n",
       "\u001b[36m                                                               3 columns omitted\u001b[0m"
      ]
     },
     "execution_count": 265,
     "metadata": {},
     "output_type": "execute_result"
    }
   ],
   "source": [
    "mc\n"
   ]
  },
  {
   "cell_type": "code",
   "execution_count": null,
   "metadata": {},
   "outputs": [],
   "source": []
  },
  {
   "cell_type": "code",
   "execution_count": null,
   "metadata": {},
   "outputs": [],
   "source": []
  },
  {
   "cell_type": "code",
   "execution_count": null,
   "metadata": {},
   "outputs": [],
   "source": []
  }
 ],
 "metadata": {
  "kernelspec": {
   "display_name": "Julia 1.5.3",
   "language": "julia",
   "name": "julia-1.5"
  },
  "language_info": {
   "file_extension": ".jl",
   "mimetype": "application/julia",
   "name": "julia",
   "version": "1.5.3"
  }
 },
 "nbformat": 4,
 "nbformat_minor": 4
}
