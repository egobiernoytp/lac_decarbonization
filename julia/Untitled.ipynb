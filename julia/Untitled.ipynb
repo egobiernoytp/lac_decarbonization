{
 "cells": [
  {
   "cell_type": "code",
   "execution_count": 1,
   "metadata": {},
   "outputs": [
    {
     "name": "stderr",
     "output_type": "stream",
     "text": [
      "┌ Info: Precompiling CSV [336ed68f-0bac-5ca0-87d4-7b16caf5d00b]\n",
      "└ @ Base loading.jl:1278\n",
      "┌ Info: Precompiling DataFrames [a93c6f00-e57d-5684-b7b6-d8193f3e46c0]\n",
      "└ @ Base loading.jl:1278\n"
     ]
    }
   ],
   "source": [
    "using CSV\n",
    "using DataFrames\n",
    "using SparseArrays\n",
    "using LinearAlgebra\n"
   ]
  },
  {
   "cell_type": "code",
   "execution_count": 2,
   "metadata": {},
   "outputs": [
    {
     "data": {
      "text/plain": [
       "sort_row_ids (generic function with 1 method)"
      ]
     },
     "execution_count": 2,
     "metadata": {},
     "output_type": "execute_result"
    }
   ],
   "source": [
    "include(\"setup_analysis.jl\")\n",
    "include(\"support_functions.jl\")"
   ]
  },
  {
   "cell_type": "code",
   "execution_count": 3,
   "metadata": {},
   "outputs": [],
   "source": [
    "mc = read_csv(\"/Users/jsyme/Desktop/testmc.csv\", true);\n",
    "cats = names(mc);\n",
    "Q = coalesce.(Matrix(mc), 0)"
   ]
  },
  {
   "cell_type": "code",
   "execution_count": 28,
   "metadata": {},
   "outputs": [
    {
     "data": {
      "text/plain": [
       "Eigen{Complex{Float64},Complex{Float64},Array{Complex{Float64},2},Array{Complex{Float64},1}}\n",
       "values:\n",
       "6-element Array{Complex{Float64},1}:\n",
       " 0.9687602078756405 + 0.0im\n",
       " 0.9841107631803048 - 0.0049710291040192004im\n",
       " 0.9841107631803048 + 0.0049710291040192004im\n",
       " 0.9880182657637496 + 0.0im\n",
       " 0.9899999999999999 + 0.0im\n",
       " 0.9999999999999993 + 0.0im\n",
       "vectors:\n",
       "6×6 Array{Complex{Float64},2}:\n",
       "   -0.923815+0.0im  0.0604625-0.163615im   …  -0.136083+0.0im  0.408248+0.0im\n",
       " -0.00781669+0.0im   0.153643-0.406988im       0.136083+0.0im  0.408248+0.0im\n",
       "   -0.108855+0.0im  -0.322349-0.0344988im      0.136083+0.0im  0.408248+0.0im\n",
       "    0.320351+0.0im   0.608628-0.0im            0.136083+0.0im  0.408248+0.0im\n",
       "   -0.108855+0.0im  -0.322349-0.0344988im     -0.952579+0.0im  0.408248+0.0im\n",
       "     0.14206+0.0im  -0.263249+0.361115im   …  -0.136083+0.0im  0.408248+0.0im"
      ]
     },
     "execution_count": 28,
     "metadata": {},
     "output_type": "execute_result"
    }
   ],
   "source": [
    "ee = eigen(Q)"
   ]
  },
  {
   "cell_type": "code",
   "execution_count": 49,
   "metadata": {},
   "outputs": [
    {
     "data": {
      "text/plain": [
       "6-element Array{Complex{Float64},1}:\n",
       "  -0.9238151400401169 + 0.0im\n",
       " -0.00781669134199983 + 0.0im\n",
       " -0.10885482888543022 + 0.0im\n",
       "   0.3203509787255466 + 0.0im\n",
       " -0.10885482888543216 + 0.0im\n",
       "  0.14205980872630536 + 0.0im"
      ]
     },
     "execution_count": 49,
     "metadata": {},
     "output_type": "execute_result"
    }
   ],
   "source": [
    "lambdas = collect(ee.values)\n",
    "aa = ee.vectors[:, 1]"
   ]
  },
  {
   "cell_type": "code",
   "execution_count": 69,
   "metadata": {},
   "outputs": [
    {
     "data": {
      "text/plain": [
       "6-element Array{Complex{Float64},1}:\n",
       " -1.5048726154098802e-16 + 0.0im\n",
       "  1.0755285551056204e-16 + 0.0im\n",
       "  1.8301332671555315e-16 + 0.0im\n",
       "  -3.235259282696745e-16 + 0.0im\n",
       "     4.9439619065339e-17 + 0.0im\n",
       "    7.19910242530375e-17 + 0.0im"
      ]
     },
     "execution_count": 69,
     "metadata": {},
     "output_type": "execute_result"
    }
   ],
   "source": [
    "(diagm(ones(size(Q)[2])) - Q)*ee.vectors[:, 6]"
   ]
  },
  {
   "cell_type": "code",
   "execution_count": 51,
   "metadata": {},
   "outputs": [
    {
     "data": {
      "text/plain": [
       "6-element Array{Complex{Float64},1}:\n",
       "   -0.8949553471039277 + 0.0im\n",
       " -0.007572499529375475 + 0.0im\n",
       "  -0.10545422665931665 + 0.0im\n",
       "    0.3103432807433254 + 0.0im\n",
       "  -0.10545422665931854 + 0.0im\n",
       "    0.1376218898324693 + 0.0im"
      ]
     },
     "execution_count": 51,
     "metadata": {},
     "output_type": "execute_result"
    }
   ],
   "source": [
    "lambdas[1]*aa"
   ]
  },
  {
   "cell_type": "code",
   "execution_count": 58,
   "metadata": {},
   "outputs": [
    {
     "data": {
      "text/plain": [
       "6×6 Array{Complex{Float64},2}:\n",
       "   -0.923815+0.0im  0.0604625-0.163615im   …  -0.136083+0.0im  0.408248+0.0im\n",
       " -0.00781669+0.0im   0.153643-0.406988im       0.136083+0.0im  0.408248+0.0im\n",
       "   -0.108855+0.0im  -0.322349-0.0344988im      0.136083+0.0im  0.408248+0.0im\n",
       "    0.320351+0.0im   0.608628-0.0im            0.136083+0.0im  0.408248+0.0im\n",
       "   -0.108855+0.0im  -0.322349-0.0344988im     -0.952579+0.0im  0.408248+0.0im\n",
       "     0.14206+0.0im  -0.263249+0.361115im   …  -0.136083+0.0im  0.408248+0.0im"
      ]
     },
     "execution_count": 58,
     "metadata": {},
     "output_type": "execute_result"
    }
   ],
   "source": [
    "ee.vectors"
   ]
  },
  {
   "cell_type": "code",
   "execution_count": 56,
   "metadata": {},
   "outputs": [
    {
     "data": {
      "text/plain": [
       "6×6 Array{Real,2}:\n",
       " 0.97   0.01   0.005  0.005  0.005  0.005\n",
       " 0      0.99   0.005  0      0      0.005\n",
       " 0      0      0.99   0.005  0      0.005\n",
       " 0.005  0.005  0.005  0.985  0      0\n",
       " 0      0      0      0.005  0.99   0.005\n",
       " 0.005  0      0      0.005  0      0.99"
      ]
     },
     "execution_count": 56,
     "metadata": {},
     "output_type": "execute_result"
    }
   ],
   "source": [
    "Q"
   ]
  },
  {
   "cell_type": "code",
   "execution_count": null,
   "metadata": {},
   "outputs": [],
   "source": []
  }
 ],
 "metadata": {
  "kernelspec": {
   "display_name": "Julia 1.5.3",
   "language": "julia",
   "name": "julia-1.5"
  },
  "language_info": {
   "file_extension": ".jl",
   "mimetype": "application/julia",
   "name": "julia",
   "version": "1.5.3"
  }
 },
 "nbformat": 4,
 "nbformat_minor": 4
}
